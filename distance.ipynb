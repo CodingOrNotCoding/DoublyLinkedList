{
  "nbformat": 4,
  "nbformat_minor": 0,
  "metadata": {
    "colab": {
      "name": "distance.ipynb",
      "provenance": [],
      "authorship_tag": "ABX9TyMvn6pIr91HR0H41OXxNYoy",
      "include_colab_link": true
    },
    "kernelspec": {
      "name": "python3",
      "display_name": "Python 3"
    },
    "language_info": {
      "name": "python"
    }
  },
  "cells": [
    {
      "cell_type": "markdown",
      "metadata": {
        "id": "view-in-github",
        "colab_type": "text"
      },
      "source": [
        "<a href=\"https://colab.research.google.com/github/CodingOrNotCoding/DoublyLinkedList/blob/main/distance.ipynb\" target=\"_parent\"><img src=\"https://colab.research.google.com/assets/colab-badge.svg\" alt=\"Open In Colab\"/></a>"
      ]
    },
    {
      "cell_type": "code",
      "execution_count": 1,
      "metadata": {
        "id": "o19FQeBNu3EE"
      },
      "outputs": [],
      "source": [
        "def levenshteinDistance(s1, s2):\n",
        "    if len(s1) > len(s2):\n",
        "        s1, s2 = s2, s1\n",
        "\n",
        "    distances = range(len(s1) + 1)\n",
        "    for i2, c2 in enumerate(s2):\n",
        "        distances_ = [i2+1]\n",
        "        for i1, c1 in enumerate(s1):\n",
        "            if c1 == c2:\n",
        "                distances_.append(distances[i1])\n",
        "            else:\n",
        "                distances_.append(1 + min((distances[i1], distances[i1 + 1], distances_[-1])))\n",
        "        distances = distances_\n",
        "    return distances[-1]"
      ]
    },
    {
      "cell_type": "code",
      "source": [
        "levenshteinDistance(\"slmasd\", \"msldas\")"
      ],
      "metadata": {
        "colab": {
          "base_uri": "https://localhost:8080/"
        },
        "id": "XElTdFb2wltR",
        "outputId": "597bba84-5591-4740-fc0a-c8a7244c21b8"
      },
      "execution_count": 6,
      "outputs": [
        {
          "output_type": "execute_result",
          "data": {
            "text/plain": [
              "3"
            ]
          },
          "metadata": {},
          "execution_count": 6
        }
      ]
    },
    {
      "cell_type": "code",
      "source": [
        "import json\n",
        " \n",
        "# Opening JSON file\n",
        "elins = open('/content/instagram-elenamanzini.json')\n",
        "eltwit = open('/content/twitter-elenamanzini.json')\n",
        "eletwit = open('/content/twitter-elerick.json')\n",
        "# returns JSON object as\n",
        "# a dictionary\n",
        "data1 = json.load(elins)\n",
        "data2 = json.load(eltwit)\n",
        "data3 = json.load(eletwit)\n",
        "# Iterating through the json\n",
        "# list\n",
        "insel = \"\"\n",
        "twitel= \"\"\n",
        "twitele= \"\"\n",
        "for i in data1['userName']:\n",
        "    insel += i\n",
        "for i in data2['userName']:\n",
        "    twitel += i\n",
        "for i in data3['userName']:\n",
        "    twitele += i\n",
        "\n",
        "print(\"data1= \"+insel)\n",
        "\n",
        "print(\"data2= \"+twitel)\n",
        "\n",
        "print(\"data3= \"+twitele)\n",
        "# Closing file\n",
        "elins.close()\n",
        "eltwit.close()\n",
        "eletwit.close()"
      ],
      "metadata": {
        "colab": {
          "base_uri": "https://localhost:8080/"
        },
        "id": "xWzOxqhXx3sR",
        "outputId": "ce3050a7-90f2-4e99-b4cc-b9d73838c160"
      },
      "execution_count": 15,
      "outputs": [
        {
          "output_type": "stream",
          "name": "stdout",
          "text": [
            "data1= elenamanzini\n",
            "data2= @ElenaManzini\n",
            "data3= @elerick\n"
          ]
        }
      ]
    },
    {
      "cell_type": "code",
      "source": [
        "print(\"Between two elena distance is \")\n",
        "levenshteinDistance(insel,twitel)\n"
      ],
      "metadata": {
        "colab": {
          "base_uri": "https://localhost:8080/"
        },
        "id": "WQRGUyf12GWv",
        "outputId": "987a0a29-5944-439a-e1c2-ae444f25a3a0"
      },
      "execution_count": 23,
      "outputs": [
        {
          "output_type": "stream",
          "name": "stdout",
          "text": [
            "Between two elena distance is \n"
          ]
        },
        {
          "output_type": "execute_result",
          "data": {
            "text/plain": [
              "3"
            ]
          },
          "metadata": {},
          "execution_count": 23
        }
      ]
    },
    {
      "cell_type": "code",
      "source": [
        "print(\"Between elena and elerick distance is \")\n",
        "levenshteinDistance(twitele,twitel)"
      ],
      "metadata": {
        "colab": {
          "base_uri": "https://localhost:8080/"
        },
        "id": "6ceT1j683DxC",
        "outputId": "4fecf634-3f04-4d08-fa82-473c327a00b4"
      },
      "execution_count": 24,
      "outputs": [
        {
          "output_type": "stream",
          "name": "stdout",
          "text": [
            "Between elena and elerick distance is \n"
          ]
        },
        {
          "output_type": "execute_result",
          "data": {
            "text/plain": [
              "9"
            ]
          },
          "metadata": {},
          "execution_count": 24
        }
      ]
    }
  ]
}